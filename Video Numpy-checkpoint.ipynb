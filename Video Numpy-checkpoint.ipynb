{
 "cells": [
  {
   "cell_type": "markdown",
   "id": "afc4e976-f336-4116-8da3-6fd71c6c0434",
   "metadata": {},
   "source": [
    "**Ejercicio 1**\n",
    "Importar **numpy**\n"
   ]
  },
  {
   "cell_type": "code",
   "execution_count": 8,
   "id": "97774268-a127-482b-a382-8b573002f3ae",
   "metadata": {},
   "outputs": [],
   "source": [
    "import numpy as np"
   ]
  },
  {
   "cell_type": "code",
   "execution_count": 9,
   "id": "6c5749ab-0fcb-4a93-ae97-6312a1f89cce",
   "metadata": {},
   "outputs": [],
   "source": [
    "import matplotlib.pyplot as plt"
   ]
  },
  {
   "cell_type": "markdown",
   "id": "e2c94283-c85a-43de-8a13-10f8fc11c3e7",
   "metadata": {},
   "source": [
    "**Ejercicio 2**"
   ]
  },
  {
   "cell_type": "code",
   "execution_count": 10,
   "id": "920a6f35-7956-4299-b0a5-f375f547bb87",
   "metadata": {},
   "outputs": [],
   "source": [
    "#Se deben realizar arreglos a las listas para tener el formato correcto\n",
    "lista = [31,28,29,19]"
   ]
  },
  {
   "cell_type": "markdown",
   "id": "cf4f0110-59cb-4870-9f38-1a9a9ca3f455",
   "metadata": {},
   "source": [
    "Crear una ndarray utilizando la lista anterior"
   ]
  },
  {
   "cell_type": "code",
   "execution_count": 11,
   "id": "849db9e6-1809-4fc9-aa04-63a8eac48c0c",
   "metadata": {},
   "outputs": [],
   "source": [
    "arr = np.array(lista)"
   ]
  },
  {
   "cell_type": "markdown",
   "id": "3996f640-d87b-489f-a3a9-ed7d86101840",
   "metadata": {},
   "source": [
    "**Ejercicio 3**"
   ]
  },
  {
   "cell_type": "code",
   "execution_count": 12,
   "id": "9108af99-f531-4263-adb3-223c0e31ac9b",
   "metadata": {},
   "outputs": [],
   "source": [
    "lista_2d=[[2,3,4],\n",
    "          [3,4,5],\n",
    "          [3,4,5],\n",
    "          [3,4,5]]          "
   ]
  },
  {
   "cell_type": "markdown",
   "id": "c9f8ab96-bd8e-4f0f-afcf-688d02bd73f4",
   "metadata": {},
   "source": [
    "Crear una ndarray utilizando la lista bidimensional anterior"
   ]
  },
  {
   "cell_type": "code",
   "execution_count": 13,
   "id": "a5122934-fcce-42cb-a47d-0e25b671e79c",
   "metadata": {},
   "outputs": [],
   "source": [
    "arr = np.array(lista_2d)"
   ]
  },
  {
   "cell_type": "markdown",
   "id": "c90fa360-11b6-4fd5-ae17-41cee8510826",
   "metadata": {},
   "source": [
    "**Ejercicio 4**\n",
    "\n",
    "Utilizar la propiedad shape para obtener la forma del ndarray anterior"
   ]
  },
  {
   "cell_type": "code",
   "execution_count": 14,
   "id": "7c355c61-2345-44dc-b62e-0e62ef4edd2f",
   "metadata": {},
   "outputs": [
    {
     "data": {
      "text/plain": [
       "(4, 3)"
      ]
     },
     "execution_count": 14,
     "metadata": {},
     "output_type": "execute_result"
    }
   ],
   "source": [
    "arr.shape #Muestra 4 filas 3 columnas"
   ]
  },
  {
   "cell_type": "markdown",
   "id": "e5e5254b-b17f-4c2d-a9b3-89d35df2d462",
   "metadata": {},
   "source": [
    "Utilizar la propiedad ndim para obtener las dimensiones del ndarray anterior"
   ]
  },
  {
   "cell_type": "code",
   "execution_count": 15,
   "id": "88022097-fd8f-4fc4-872d-74a476c02174",
   "metadata": {},
   "outputs": [
    {
     "data": {
      "text/plain": [
       "2"
      ]
     },
     "execution_count": 15,
     "metadata": {},
     "output_type": "execute_result"
    }
   ],
   "source": [
    "arr.ndim #Muestra dos dimensiones"
   ]
  },
  {
   "cell_type": "markdown",
   "id": "4c536182-c940-48a2-b287-26086baa9919",
   "metadata": {},
   "source": [
    "Utilizar la propiedad dtype para obtener el tipo de los datos en el ndarray anterior"
   ]
  },
  {
   "cell_type": "code",
   "execution_count": 16,
   "id": "2847b8d8-6a98-4b43-aa0b-579808b1379a",
   "metadata": {},
   "outputs": [
    {
     "data": {
      "text/plain": [
       "dtype('int64')"
      ]
     },
     "execution_count": 16,
     "metadata": {},
     "output_type": "execute_result"
    }
   ],
   "source": [
    "arr.dtype #Muestra entero de 64 bits"
   ]
  },
  {
   "cell_type": "markdown",
   "id": "670a9eeb-1730-413b-9a5b-0e9bb5151322",
   "metadata": {},
   "source": [
    "Utilizar la propiedad size para obtener la cantidad total de datos en el ndarray anterior"
   ]
  },
  {
   "cell_type": "code",
   "execution_count": 17,
   "id": "3fa78829-9c2a-4e2b-9638-f32da9df404a",
   "metadata": {},
   "outputs": [
    {
     "data": {
      "text/plain": [
       "12"
      ]
     },
     "execution_count": 17,
     "metadata": {},
     "output_type": "execute_result"
    }
   ],
   "source": [
    "arr.size"
   ]
  },
  {
   "cell_type": "markdown",
   "id": "58167e49-1e44-4593-9aec-07ea3df02607",
   "metadata": {},
   "source": [
    "**Ejercicio 5**\n",
    "\n",
    "Crear una ndarray utilizando la lista \"lista_2d\" el tipo de los datos debe ser \"int16\""
   ]
  },
  {
   "cell_type": "code",
   "execution_count": 18,
   "id": "d3786389-60df-4272-9b3e-a4819838d999",
   "metadata": {},
   "outputs": [],
   "source": [
    "arr = np.array(lista_2d, dtype = np.int16)"
   ]
  },
  {
   "cell_type": "markdown",
   "id": "d2dd25d1-267a-4217-ac28-a979fe45967f",
   "metadata": {},
   "source": [
    "**Ejercicio 6**\n",
    "\n",
    "Utilizar la función np.zeros para crear una ndarray con la forma 3x2\n",
    "- Se realiza para crear matrices vacias que posteriormente serán pobladas con datos"
   ]
  },
  {
   "cell_type": "code",
   "execution_count": 19,
   "id": "b2998c04-a3e5-405b-8332-8c795a89b1f6",
   "metadata": {},
   "outputs": [
    {
     "data": {
      "text/plain": [
       "array([[0., 0.],\n",
       "       [0., 0.],\n",
       "       [0., 0.]])"
      ]
     },
     "execution_count": 19,
     "metadata": {},
     "output_type": "execute_result"
    }
   ],
   "source": [
    "np.zeros((3,2))"
   ]
  },
  {
   "cell_type": "markdown",
   "id": "9bbccaff-61fe-4133-b3e1-87b053b62f8d",
   "metadata": {},
   "source": [
    "Utilizar la función np.ones para crear una ndarray con la forma 3x3"
   ]
  },
  {
   "cell_type": "code",
   "execution_count": 20,
   "id": "9f89e37a-21a4-484b-91d6-691b702a7d46",
   "metadata": {},
   "outputs": [
    {
     "data": {
      "text/plain": [
       "array([[1., 1., 1.],\n",
       "       [1., 1., 1.],\n",
       "       [1., 1., 1.]])"
      ]
     },
     "execution_count": 20,
     "metadata": {},
     "output_type": "execute_result"
    }
   ],
   "source": [
    "np.ones((3,3))"
   ]
  },
  {
   "cell_type": "markdown",
   "id": "3a02de4c-62d4-42b7-9b4b-907bc5431bbc",
   "metadata": {},
   "source": [
    "Utilizar la función np.empty para crear un ndarray con la forma 2x4"
   ]
  },
  {
   "cell_type": "code",
   "execution_count": 21,
   "id": "87c52f34-3e98-4efa-a2a8-7f879df848e9",
   "metadata": {},
   "outputs": [
    {
     "data": {
      "text/plain": [
       "array([[6.23042070e-307, 4.67296746e-307, 1.69121096e-306,\n",
       "        7.56603882e-307],\n",
       "       [1.89146896e-307, 7.56571288e-307, 3.11525958e-307,\n",
       "        1.24610723e-306]])"
      ]
     },
     "execution_count": 21,
     "metadata": {},
     "output_type": "execute_result"
    }
   ],
   "source": [
    "np.empty((2,4))"
   ]
  },
  {
   "cell_type": "markdown",
   "id": "27a3345a-4222-40ba-a983-85886189ad33",
   "metadata": {},
   "source": [
    "**Ejercicio 7**\n",
    "\n",
    "Crear un ndarray de 1 dimensión con los valores del 0 al 9"
   ]
  },
  {
   "cell_type": "code",
   "execution_count": 22,
   "id": "bc66b855-fa30-4bec-9e2b-3fddf8de287b",
   "metadata": {},
   "outputs": [
    {
     "data": {
      "text/plain": [
       "array([0, 1, 2, 3, 4, 5, 6, 7, 8, 9])"
      ]
     },
     "execution_count": 22,
     "metadata": {},
     "output_type": "execute_result"
    }
   ],
   "source": [
    "np.arange(10)"
   ]
  },
  {
   "cell_type": "markdown",
   "id": "096ad1a3-2f9e-4d3b-8f77-f63f1dd0f059",
   "metadata": {},
   "source": [
    "Crear un ndarray de 2 dimensiones con la forma 2x5, los valores deben ser del 0 al 9"
   ]
  },
  {
   "cell_type": "code",
   "execution_count": 23,
   "id": "141e9b41-042f-4748-8487-7240a9c84e41",
   "metadata": {},
   "outputs": [
    {
     "data": {
      "text/plain": [
       "array([[0, 1, 2, 3, 4],\n",
       "       [5, 6, 7, 8, 9]])"
      ]
     },
     "execution_count": 23,
     "metadata": {},
     "output_type": "execute_result"
    }
   ],
   "source": [
    "np.arange(10).reshape(2,5)"
   ]
  },
  {
   "cell_type": "markdown",
   "id": "fde94035-3419-4df0-9ace-186a9839dff8",
   "metadata": {},
   "source": [
    "**Ejercicio 8**\n",
    "\n",
    "Utilizar np.arange para crear un ndarray con los valores del 10 al 20 deben ir de 2 en 2"
   ]
  },
  {
   "cell_type": "code",
   "execution_count": 24,
   "id": "7dad25ee-6e72-4671-8414-105d3c0e6bc3",
   "metadata": {},
   "outputs": [
    {
     "data": {
      "text/plain": [
       "array([10, 12, 14, 16, 18, 20])"
      ]
     },
     "execution_count": 24,
     "metadata": {},
     "output_type": "execute_result"
    }
   ],
   "source": [
    "np.arange(10,21,2)"
   ]
  },
  {
   "cell_type": "markdown",
   "id": "ca73f46b-1603-4ca5-87b8-6c92de5e19ea",
   "metadata": {},
   "source": [
    "**Ejercicio 9**\n",
    "\n",
    "Utilizar np.linspace para crear un ndarray con los valores enteros entre el 10 al 20"
   ]
  },
  {
   "cell_type": "code",
   "execution_count": 25,
   "id": "6609f8cf-79f9-4519-a51d-cf79775c3026",
   "metadata": {},
   "outputs": [
    {
     "data": {
      "text/plain": [
       "array([10.        , 10.20408163, 10.40816327, 10.6122449 , 10.81632653,\n",
       "       11.02040816, 11.2244898 , 11.42857143, 11.63265306, 11.83673469,\n",
       "       12.04081633, 12.24489796, 12.44897959, 12.65306122, 12.85714286,\n",
       "       13.06122449, 13.26530612, 13.46938776, 13.67346939, 13.87755102,\n",
       "       14.08163265, 14.28571429, 14.48979592, 14.69387755, 14.89795918,\n",
       "       15.10204082, 15.30612245, 15.51020408, 15.71428571, 15.91836735,\n",
       "       16.12244898, 16.32653061, 16.53061224, 16.73469388, 16.93877551,\n",
       "       17.14285714, 17.34693878, 17.55102041, 17.75510204, 17.95918367,\n",
       "       18.16326531, 18.36734694, 18.57142857, 18.7755102 , 18.97959184,\n",
       "       19.18367347, 19.3877551 , 19.59183673, 19.79591837, 20.        ])"
      ]
     },
     "execution_count": 25,
     "metadata": {},
     "output_type": "execute_result"
    }
   ],
   "source": [
    "np.linspace(10,20,50) #Es importante"
   ]
  },
  {
   "cell_type": "markdown",
   "id": "b21f5fcf-e42a-4f35-9460-a1942cb293d8",
   "metadata": {},
   "source": [
    "**Ejercicio 10**\n",
    "\n",
    "Utilizar np.linspace para crear un ndarray con 100 números entre el 0 y 2pi\n"
   ]
  },
  {
   "cell_type": "code",
   "execution_count": 26,
   "id": "4ab3d71c-db97-480c-b661-9f1a8c38a15e",
   "metadata": {},
   "outputs": [],
   "source": [
    "from numpy import pi\n",
    "rad = np.linspace(0,2*pi,100)"
   ]
  },
  {
   "cell_type": "code",
   "execution_count": 24,
   "id": "20b9c59a-ba9a-4fda-9714-294014e85a04",
   "metadata": {},
   "outputs": [
    {
     "data": {
      "text/plain": [
       "array([0.        , 0.06346652, 0.12693304, 0.19039955, 0.25386607,\n",
       "       0.31733259, 0.38079911, 0.44426563, 0.50773215, 0.57119866,\n",
       "       0.63466518, 0.6981317 , 0.76159822, 0.82506474, 0.88853126,\n",
       "       0.95199777, 1.01546429, 1.07893081, 1.14239733, 1.20586385,\n",
       "       1.26933037, 1.33279688, 1.3962634 , 1.45972992, 1.52319644,\n",
       "       1.58666296, 1.65012947, 1.71359599, 1.77706251, 1.84052903,\n",
       "       1.90399555, 1.96746207, 2.03092858, 2.0943951 , 2.15786162,\n",
       "       2.22132814, 2.28479466, 2.34826118, 2.41172769, 2.47519421,\n",
       "       2.53866073, 2.60212725, 2.66559377, 2.72906028, 2.7925268 ,\n",
       "       2.85599332, 2.91945984, 2.98292636, 3.04639288, 3.10985939,\n",
       "       3.17332591, 3.23679243, 3.30025895, 3.36372547, 3.42719199,\n",
       "       3.4906585 , 3.55412502, 3.61759154, 3.68105806, 3.74452458,\n",
       "       3.8079911 , 3.87145761, 3.93492413, 3.99839065, 4.06185717,\n",
       "       4.12532369, 4.1887902 , 4.25225672, 4.31572324, 4.37918976,\n",
       "       4.44265628, 4.5061228 , 4.56958931, 4.63305583, 4.69652235,\n",
       "       4.75998887, 4.82345539, 4.88692191, 4.95038842, 5.01385494,\n",
       "       5.07732146, 5.14078798, 5.2042545 , 5.26772102, 5.33118753,\n",
       "       5.39465405, 5.45812057, 5.52158709, 5.58505361, 5.64852012,\n",
       "       5.71198664, 5.77545316, 5.83891968, 5.9023862 , 5.96585272,\n",
       "       6.02931923, 6.09278575, 6.15625227, 6.21971879, 6.28318531])"
      ]
     },
     "execution_count": 24,
     "metadata": {},
     "output_type": "execute_result"
    }
   ],
   "source": [
    "rad"
   ]
  },
  {
   "cell_type": "code",
   "execution_count": 27,
   "id": "cdc0a4e8-270c-458a-b47d-4dcc9fea97e0",
   "metadata": {},
   "outputs": [],
   "source": [
    "seno = np.sin(rad)\n",
    "coseno = np.cos(rad)"
   ]
  },
  {
   "cell_type": "markdown",
   "id": "64aa9d8a-1e37-4b1c-b4b6-00dfdbd990b7",
   "metadata": {},
   "source": [
    "Utilizar plt.plot para graficar un círculo con los datos de seno y coseno"
   ]
  },
  {
   "cell_type": "code",
   "execution_count": 28,
   "id": "a33cede9-8eed-488c-a09a-41175cc94d6b",
   "metadata": {},
   "outputs": [
    {
     "data": {
      "image/png": "[encoded data removed]",
      "text/plain": [
       "<Figure size 640x480 with 1 Axes>"
      ]
     },
     "metadata": {},
     "output_type": "display_data"
    }
   ],
   "source": [
    "plt.plot(seno, coseno)\n",
    "plt.show()"
   ]
  },
  {
   "cell_type": "markdown",
   "id": "cb80a570-67d9-40f3-8257-55cdf998c2e5",
   "metadata": {},
   "source": [
    "**Ejercicio 11**\n",
    "\n",
    "Utilizar plt.plot para graficar los valores de seno y coseno por separado"
   ]
  },
  {
   "cell_type": "code",
   "execution_count": 29,
   "id": "eafad1f7-3cc3-48b0-9289-158ad4639435",
   "metadata": {},
   "outputs": [
    {
     "data": {
      "text/plain": [
       "[<matplotlib.lines.Line2D at 0x1a9febbf2f0>]"
      ]
     },
     "execution_count": 29,
     "metadata": {},
     "output_type": "execute_result"
    },
    {
     "data": {
      "image/png": "[encoded data removed]",
      "text/plain": [
       "<Figure size 640x480 with 1 Axes>"
      ]
     },
     "metadata": {},
     "output_type": "display_data"
    }
   ],
   "source": [
    "plt.plot(rad, seno)\n",
    "plt.plot(rad, coseno)\n"
   ]
  },
  {
   "cell_type": "markdown",
   "id": "34f7cb0f-da3f-449c-a508-b47f99ebf6c8",
   "metadata": {},
   "source": [
    "**Ejercicio 12**"
   ]
  },
  {
   "cell_type": "code",
   "execution_count": 30,
   "id": "8554fb58-d69b-4ad6-8762-6a5f72b2152d",
   "metadata": {},
   "outputs": [
    {
     "name": "stdout",
     "output_type": "stream",
     "text": [
      "[10. 12. 14. 16. 18. 20.] [ 5.  9. 13. 17. 21. 25.]\n"
     ]
    }
   ],
   "source": [
    "a= np.linspace(10,20,6)\n",
    "b= np.linspace(5,25,6)\n",
    "print(a,b)"
   ]
  },
  {
   "cell_type": "markdown",
   "id": "f1903c5e-38f2-4acc-82ad-83a0004855ef",
   "metadata": {},
   "source": [
    "Sumar los valores de los ndarray \"a\" y \"b\""
   ]
  },
  {
   "cell_type": "code",
   "execution_count": 31,
   "id": "fb1fb49d-5018-46b1-a4cb-7fd1362929ce",
   "metadata": {},
   "outputs": [
    {
     "data": {
      "text/plain": [
       "array([15., 21., 27., 33., 39., 45.])"
      ]
     },
     "execution_count": 31,
     "metadata": {},
     "output_type": "execute_result"
    }
   ],
   "source": [
    "a + b\n"
   ]
  },
  {
   "cell_type": "markdown",
   "id": "69cf4d02-76a2-4ddd-93b8-cfe915f87d52",
   "metadata": {},
   "source": [
    "Unir los ndarray \"a\" y \"b\", guardarlo en la variable c"
   ]
  },
  {
   "cell_type": "code",
   "execution_count": 32,
   "id": "583874d3-43f9-4932-8340-9c3cb835739c",
   "metadata": {},
   "outputs": [],
   "source": [
    "c = np.concatenate((a,b))"
   ]
  },
  {
   "cell_type": "code",
   "execution_count": 31,
   "id": "4db3ff49-406c-43b6-a493-9c9bd15e51a2",
   "metadata": {},
   "outputs": [
    {
     "data": {
      "text/plain": [
       "array([10., 12., 14., 16., 18., 20.,  5.,  9., 13., 17., 21., 25.])"
      ]
     },
     "execution_count": 31,
     "metadata": {},
     "output_type": "execute_result"
    }
   ],
   "source": [
    "c"
   ]
  },
  {
   "cell_type": "markdown",
   "id": "d34184a5-65e7-45c2-83ba-4401d6f1f334",
   "metadata": {},
   "source": [
    "Ordenar los valores del ndarray c:"
   ]
  },
  {
   "cell_type": "code",
   "execution_count": 33,
   "id": "17d5d558-071e-4ad0-b4af-9f9642076ffc",
   "metadata": {},
   "outputs": [],
   "source": [
    "c.sort()"
   ]
  },
  {
   "cell_type": "code",
   "execution_count": 33,
   "id": "4b91cffe-ed2e-491f-9622-c5a414b528fd",
   "metadata": {},
   "outputs": [
    {
     "data": {
      "text/plain": [
       "array([ 5.,  9., 10., 12., 13., 14., 16., 17., 18., 20., 21., 25.])"
      ]
     },
     "execution_count": 33,
     "metadata": {},
     "output_type": "execute_result"
    }
   ],
   "source": [
    "c"
   ]
  },
  {
   "cell_type": "markdown",
   "id": "0f66a765-29f2-4faa-890b-600af03cc396",
   "metadata": {},
   "source": [
    "**Ejercicio 13**\n",
    "\n",
    "Utilizar rg.random para generar un ndarray de 1000 números aleatorios entre el 0 y el 1"
   ]
  },
  {
   "cell_type": "code",
   "execution_count": 34,
   "id": "0df5d354-b3fa-45b5-a0a4-b1f08579560c",
   "metadata": {},
   "outputs": [],
   "source": [
    "rg = np.random.default_rng(2) #El número 2 corresponde al número semilla para el random"
   ]
  },
  {
   "cell_type": "code",
   "execution_count": 35,
   "id": "d16e5c19-fe22-4352-8814-ef1c17bcb261",
   "metadata": {},
   "outputs": [],
   "source": [
    "aleatorio = rg.random(1000)"
   ]
  },
  {
   "cell_type": "code",
   "execution_count": 36,
   "id": "a5a006f8-4030-4140-80b8-3303e7953ce6",
   "metadata": {},
   "outputs": [
    {
     "data": {
      "text/plain": [
       "<function matplotlib.pyplot.show(close=None, block=None)>"
      ]
     },
     "execution_count": 36,
     "metadata": {},
     "output_type": "execute_result"
    },
    {
     "data": {
      "image/png": "[encoded data removed]",
      "text/plain": [
       "<Figure size 640x480 with 1 Axes>"
      ]
     },
     "metadata": {},
     "output_type": "display_data"
    }
   ],
   "source": [
    "plt.hist(aleatorio, bins = 100)\n",
    "plt.show"
   ]
  },
  {
   "cell_type": "markdown",
   "id": "c994dbd3-16b7-499a-9541-2cc12cada9e7",
   "metadata": {},
   "source": [
    "**Ejercicio 14**\n",
    "\n",
    "Utilizar rg.normal para generar 100000 valores aleatorios que sigan una distribución normal"
   ]
  },
  {
   "cell_type": "code",
   "execution_count": 37,
   "id": "8eee9b7d-56af-4038-bdcf-a597aabbf782",
   "metadata": {},
   "outputs": [
    {
     "data": {
      "text/plain": [
       "array([13.51638928, 14.60947682,  6.23501862, ...,  3.56636798,\n",
       "        8.66660197, 12.61968552])"
      ]
     },
     "execution_count": 37,
     "metadata": {},
     "output_type": "execute_result"
    }
   ],
   "source": [
    "normal = rg.normal(10,5,100000)\n",
    "normal"
   ]
  },
  {
   "cell_type": "code",
   "execution_count": 38,
   "id": "e3e3e64f-87b7-4640-b5a3-f7302b3cfbad",
   "metadata": {},
   "outputs": [
    {
     "data": {
      "text/plain": [
       "<function matplotlib.pyplot.show(close=None, block=None)>"
      ]
     },
     "execution_count": 38,
     "metadata": {},
     "output_type": "execute_result"
    },
    {
     "data": {
      "image/png": "[encoded data removed]",
      "text/plain": [
       "<Figure size 640x480 with 1 Axes>"
      ]
     },
     "metadata": {},
     "output_type": "display_data"
    }
   ],
   "source": [
    "plt.hist(normal, bins = 1000)\n",
    "plt.show"
   ]
  },
  {
   "cell_type": "markdown",
   "id": "5de41e1c-e674-464e-8411-82ddfad6d735",
   "metadata": {},
   "source": [
    "**Ejercicio 15**\n",
    "\n",
    "Utilizar rg.integers para generar 2000 números aleatorios enteros entre el 0 y el 19"
   ]
  },
  {
   "cell_type": "code",
   "execution_count": 39,
   "id": "9b3442c3-7bf7-4d3b-9be5-214257c55131",
   "metadata": {},
   "outputs": [],
   "source": [
    "enteros = rg.integers(20, size = 2000)"
   ]
  },
  {
   "cell_type": "code",
   "execution_count": 41,
   "id": "fa2eeedc-ff3b-4739-9b8a-78b4fea80823",
   "metadata": {},
   "outputs": [
    {
     "data": {
      "text/plain": [
       "array([17,  9,  6, ..., 16, 14,  9])"
      ]
     },
     "execution_count": 41,
     "metadata": {},
     "output_type": "execute_result"
    }
   ],
   "source": [
    "enteros"
   ]
  },
  {
   "cell_type": "code",
   "execution_count": 40,
   "id": "b43d348c-c0cb-479b-abc2-ec71ce9db3f5",
   "metadata": {},
   "outputs": [
    {
     "data": {
      "text/plain": [
       "<function matplotlib.pyplot.show(close=None, block=None)>"
      ]
     },
     "execution_count": 40,
     "metadata": {},
     "output_type": "execute_result"
    },
    {
     "data": {
      "image/png": "[encoded data removed]",
      "text/plain": [
       "<Figure size 640x480 with 1 Axes>"
      ]
     },
     "metadata": {},
     "output_type": "display_data"
    }
   ],
   "source": [
    "plt.hist(enteros)\n",
    "plt.show"
   ]
  },
  {
   "cell_type": "markdown",
   "id": "d11a7e1d-8d5b-47cf-b4ab-dbe66956964f",
   "metadata": {},
   "source": [
    "**Ejercicio 16**\n",
    "\n",
    "Utilizar rg.choice para elegir 10 números aleatorios SIN REPETIR entre el 0 y el 25"
   ]
  },
  {
   "cell_type": "code",
   "execution_count": 42,
   "id": "279ae75e-b3ca-4ec2-9d90-8d05141f58a7",
   "metadata": {},
   "outputs": [
    {
     "data": {
      "text/plain": [
       "array([ 0,  7,  1, 13, 20,  9,  8, 11, 18,  4])"
      ]
     },
     "execution_count": 42,
     "metadata": {},
     "output_type": "execute_result"
    }
   ],
   "source": [
    "rg.choice(26, size = 10, replace = False)"
   ]
  },
  {
   "cell_type": "markdown",
   "id": "d6177166-7de1-40d2-9fd1-0f90cf218200",
   "metadata": {},
   "source": [
    "**Ejercicio 17**"
   ]
  },
  {
   "cell_type": "code",
   "execution_count": 43,
   "id": "22947809-03f5-43f5-a35b-063ecb647c13",
   "metadata": {},
   "outputs": [
    {
     "data": {
      "text/plain": [
       "array([ 4, 11,  8,  8,  8, 17,  9, 16])"
      ]
     },
     "execution_count": 43,
     "metadata": {},
     "output_type": "execute_result"
    }
   ],
   "source": [
    "estadisticos = rg.integers(20, size=8)\n",
    "estadisticos"
   ]
  },
  {
   "cell_type": "markdown",
   "id": "b682612d-06b6-45a1-9926-916462ad758c",
   "metadata": {},
   "source": [
    "Utilizar la funcion min() para obtener el valor mínimo en el ndarray \"estadisticos\""
   ]
  },
  {
   "cell_type": "code",
   "execution_count": 44,
   "id": "02498559-128e-42f2-9102-31884d6aa388",
   "metadata": {},
   "outputs": [
    {
     "data": {
      "text/plain": [
       "np.int64(4)"
      ]
     },
     "execution_count": 44,
     "metadata": {},
     "output_type": "execute_result"
    }
   ],
   "source": [
    "estadisticos.min()"
   ]
  },
  {
   "cell_type": "markdown",
   "id": "7e744374-0443-4df4-bcd6-2ff1c677d465",
   "metadata": {},
   "source": [
    "Utilizar la funcion max() para obtener el valor máximo en el ndarray \"estadisticos\""
   ]
  },
  {
   "cell_type": "code",
   "execution_count": 45,
   "id": "c91d6640-8bd0-43a1-8913-bade5983c28d",
   "metadata": {},
   "outputs": [
    {
     "data": {
      "text/plain": [
       "np.int64(17)"
      ]
     },
     "execution_count": 45,
     "metadata": {},
     "output_type": "execute_result"
    }
   ],
   "source": [
    "estadisticos.max()"
   ]
  },
  {
   "cell_type": "markdown",
   "id": "307e2d6f-5987-4a44-9808-9b7be7c58c9b",
   "metadata": {},
   "source": [
    "Utilizar la funcion mean() para obtener el valor promedio en el ndarray \"estadisticos\""
   ]
  },
  {
   "cell_type": "code",
   "execution_count": 48,
   "id": "8b5cdc2f-9be7-4230-8867-34a68f3ad7a7",
   "metadata": {},
   "outputs": [
    {
     "data": {
      "text/plain": [
       "np.float64(10.125)"
      ]
     },
     "execution_count": 48,
     "metadata": {},
     "output_type": "execute_result"
    }
   ],
   "source": [
    "estadisticos.mean()"
   ]
  },
  {
   "cell_type": "markdown",
   "id": "63587c15-ebed-4bbb-9199-352bddf55aab",
   "metadata": {},
   "source": [
    "Utilizar la funcion std() para obtener el valor desviación estandar en el ndarray \"estadisticos\""
   ]
  },
  {
   "cell_type": "code",
   "execution_count": 49,
   "id": "4f224284-0abe-42eb-a17d-366340c4c756",
   "metadata": {},
   "outputs": [
    {
     "data": {
      "text/plain": [
       "np.float64(4.106016926414211)"
      ]
     },
     "execution_count": 49,
     "metadata": {},
     "output_type": "execute_result"
    }
   ],
   "source": [
    "estadisticos.std()"
   ]
  },
  {
   "cell_type": "markdown",
   "id": "f0408c7f-79c9-4e7a-a464-fc41eaaa43f3",
   "metadata": {},
   "source": [
    "Utilizar la función sum() para obtener el valor al sumar todos los números en el ndarray \"estadisticos\""
   ]
  },
  {
   "cell_type": "code",
   "execution_count": 50,
   "id": "489e0f65-57e6-4bd3-aa92-d86901776b0e",
   "metadata": {},
   "outputs": [
    {
     "data": {
      "text/plain": [
       "np.int64(81)"
      ]
     },
     "execution_count": 50,
     "metadata": {},
     "output_type": "execute_result"
    }
   ],
   "source": [
    "estadisticos.sum()"
   ]
  },
  {
   "cell_type": "markdown",
   "id": "57629908-87ec-4d5c-906a-54ec2786b271",
   "metadata": {},
   "source": [
    "**Ejercicio 18**"
   ]
  },
  {
   "cell_type": "code",
   "execution_count": 51,
   "id": "a4d50e0e-35ab-4a63-bfbf-b251ef42ce66",
   "metadata": {},
   "outputs": [
    {
     "data": {
      "text/plain": [
       "array([[ 6,  8, 11,  8],\n",
       "       [13, 14,  0,  0],\n",
       "       [ 8, 17, 17, 10],\n",
       "       [ 5, 10,  1,  2],\n",
       "       [18, 16, 14,  2]])"
      ]
     },
     "execution_count": 51,
     "metadata": {},
     "output_type": "execute_result"
    }
   ],
   "source": [
    "estadisticos_2d = rg.integers(20, size=(5,4))\n",
    "estadisticos_2d"
   ]
  },
  {
   "cell_type": "markdown",
   "id": "8c957382-d543-4631-aa4a-582a28e040d4",
   "metadata": {},
   "source": [
    "Utilizar la función min() para obtener el valor mínimo de cada columna en el ndarray \"estadisticos\""
   ]
  },
  {
   "cell_type": "code",
   "execution_count": 52,
   "id": "2c4a2bfe-a9da-4f6c-adc0-59a3a15deb57",
   "metadata": {},
   "outputs": [
    {
     "data": {
      "text/plain": [
       "array([5, 8, 0, 0])"
      ]
     },
     "execution_count": 52,
     "metadata": {},
     "output_type": "execute_result"
    }
   ],
   "source": [
    "estadisticos_2d.min(axis = 0) #Axis = 0 es igual a columnas"
   ]
  },
  {
   "cell_type": "markdown",
   "id": "e4250732-c50d-4d84-abf5-69e1dbf653d1",
   "metadata": {},
   "source": [
    "Utilizar la función max() para obtener el valor máximo de cada fila en el ndarray \"estadisticos\""
   ]
  },
  {
   "cell_type": "code",
   "execution_count": 55,
   "id": "7910a3bb-3534-489e-9c4c-9d09a30f169d",
   "metadata": {},
   "outputs": [
    {
     "data": {
      "text/plain": [
       "array([11, 14, 17, 10, 18])"
      ]
     },
     "execution_count": 55,
     "metadata": {},
     "output_type": "execute_result"
    }
   ],
   "source": [
    "estadisticos_2d.max(axis = 1) #Axis = 1 es igual a filas"
   ]
  },
  {
   "cell_type": "markdown",
   "id": "8aabca5d-3b33-4bd8-814c-482e8fb83719",
   "metadata": {},
   "source": [
    "**Ejercicio 19**"
   ]
  },
  {
   "cell_type": "code",
   "execution_count": 56,
   "id": "8ea4c744-21dd-4f43-abff-7b234bb0cc8e",
   "metadata": {},
   "outputs": [
    {
     "data": {
      "text/plain": [
       "array([[ 6,  8, 11,  8],\n",
       "       [13, 14,  0,  0],\n",
       "       [ 8, 17, 17, 10],\n",
       "       [ 5, 10,  1,  2],\n",
       "       [18, 16, 14,  2]])"
      ]
     },
     "execution_count": 56,
     "metadata": {},
     "output_type": "execute_result"
    }
   ],
   "source": [
    "estadisticos_2d"
   ]
  },
  {
   "cell_type": "markdown",
   "id": "6827aa8a-ef94-41f7-9269-7e8c109923d9",
   "metadata": {},
   "source": [
    "Obtener los valores menores a 12 en el ndarray \"estadisticos_2d\""
   ]
  },
  {
   "cell_type": "code",
   "execution_count": 57,
   "id": "cd154316-08a7-4757-9f57-b4f7aca9847f",
   "metadata": {},
   "outputs": [
    {
     "data": {
      "text/plain": [
       "array([[ True,  True,  True,  True],\n",
       "       [False, False,  True,  True],\n",
       "       [ True, False, False,  True],\n",
       "       [ True,  True,  True,  True],\n",
       "       [False, False, False,  True]])"
      ]
     },
     "execution_count": 57,
     "metadata": {},
     "output_type": "execute_result"
    }
   ],
   "source": [
    "estadisticos_2d<12"
   ]
  },
  {
   "cell_type": "code",
   "execution_count": 58,
   "id": "3495ed00-9524-4d0e-9353-fec49063dc49",
   "metadata": {},
   "outputs": [
    {
     "data": {
      "text/plain": [
       "array([ 6,  8, 11,  8,  0,  0,  8, 10,  5, 10,  1,  2,  2])"
      ]
     },
     "execution_count": 58,
     "metadata": {},
     "output_type": "execute_result"
    }
   ],
   "source": [
    "estadisticos_2d[estadisticos_2d<12]"
   ]
  },
  {
   "cell_type": "markdown",
   "id": "e3972112-2c41-4601-96d4-6e4454d59765",
   "metadata": {},
   "source": [
    "**Ejercicio 20**"
   ]
  },
  {
   "cell_type": "code",
   "execution_count": 60,
   "id": "9f51e4b7-4b3a-4874-9b52-1dee133208ef",
   "metadata": {},
   "outputs": [
    {
     "name": "stdout",
     "output_type": "stream",
     "text": [
      "[[19 19 15]\n",
      " [19 15 10]\n",
      " [15 16  5]] \n",
      "\n",
      " [[ 9 18 14]\n",
      " [ 7 19 17]\n",
      " [ 8 11  2]]\n"
     ]
    }
   ],
   "source": [
    "np1 = rg.integers(20, size = (3,3))\n",
    "np2 = rg.integers(20, size = (3,3))\n",
    "print (np1,\"\\n\\n\",np2)"
   ]
  },
  {
   "cell_type": "markdown",
   "id": "f5b8d1a9-e616-4ec4-b153-fadae54c655f",
   "metadata": {},
   "source": [
    "Utilizar np.vstack para unir los ndarray \"np1 y np2\" verticalmente"
   ]
  },
  {
   "cell_type": "code",
   "execution_count": 62,
   "id": "5a2b13e9-9876-4eda-8a11-b903f6693e24",
   "metadata": {},
   "outputs": [
    {
     "data": {
      "text/plain": [
       "array([[19, 19, 15],\n",
       "       [19, 15, 10],\n",
       "       [15, 16,  5],\n",
       "       [ 9, 18, 14],\n",
       "       [ 7, 19, 17],\n",
       "       [ 8, 11,  2]])"
      ]
     },
     "execution_count": 62,
     "metadata": {},
     "output_type": "execute_result"
    }
   ],
   "source": [
    "np.vstack((np1,np2))"
   ]
  },
  {
   "cell_type": "markdown",
   "id": "9f8c623f-3ed6-4bb5-93f1-4a6404f50009",
   "metadata": {},
   "source": [
    "Utilizar np.hstack para unir los ndarray \"np1 y np2\" horizontalmente"
   ]
  },
  {
   "cell_type": "code",
   "execution_count": 63,
   "id": "887716df-f160-4084-bdba-8c374018d53f",
   "metadata": {},
   "outputs": [
    {
     "data": {
      "text/plain": [
       "array([[19, 19, 15,  9, 18, 14],\n",
       "       [19, 15, 10,  7, 19, 17],\n",
       "       [15, 16,  5,  8, 11,  2]])"
      ]
     },
     "execution_count": 63,
     "metadata": {},
     "output_type": "execute_result"
    }
   ],
   "source": [
    "np.hstack((np1,np2))"
   ]
  },
  {
   "cell_type": "markdown",
   "id": "1f57dd32-d26a-4d39-8ed7-b7cb26373464",
   "metadata": {},
   "source": [
    "**Ejercicio 21**"
   ]
  },
  {
   "cell_type": "code",
   "execution_count": 64,
   "id": "a3604e4a-c634-4c5c-b54a-4297b9a95253",
   "metadata": {},
   "outputs": [
    {
     "data": {
      "text/plain": [
       "array([ 0, 14,  8, 19,  3,  4,  1,  8, 15, 15])"
      ]
     },
     "execution_count": 64,
     "metadata": {},
     "output_type": "execute_result"
    }
   ],
   "source": [
    "enteros = rg.integers(20, size=(10))\n",
    "enteros"
   ]
  },
  {
   "cell_type": "markdown",
   "id": "53b58bb1-eaa5-4472-8e46-f0e2e67155e6",
   "metadata": {},
   "source": [
    "Seleccionar los primeros 6 valores del ndarray \"enteros\""
   ]
  },
  {
   "cell_type": "code",
   "execution_count": 65,
   "id": "447543c3-2ddf-4a79-bfc7-4a0e16078412",
   "metadata": {},
   "outputs": [
    {
     "data": {
      "text/plain": [
       "array([ 0, 14,  8, 19,  3,  4])"
      ]
     },
     "execution_count": 65,
     "metadata": {},
     "output_type": "execute_result"
    }
   ],
   "source": [
    "enteros[0:6]"
   ]
  },
  {
   "cell_type": "markdown",
   "id": "c9f490c8-ecbd-43f3-abdc-13e9fe3df3ff",
   "metadata": {},
   "source": [
    "Seleccionar los valores en la posición 0.2 y 4 del ndarray \"enteros\""
   ]
  },
  {
   "cell_type": "code",
   "execution_count": 66,
   "id": "746b11bd-e09c-4aae-bc99-268f8a255b9f",
   "metadata": {},
   "outputs": [
    {
     "data": {
      "text/plain": [
       "array([0, 8, 3])"
      ]
     },
     "execution_count": 66,
     "metadata": {},
     "output_type": "execute_result"
    }
   ],
   "source": [
    "enteros[0:6:2]"
   ]
  },
  {
   "cell_type": "markdown",
   "id": "b45ce378-496f-4d93-a965-1ccbeeb4406b",
   "metadata": {},
   "source": [
    "Seleccionar todos los valores con un índice par en el ndarray \"enteros\"(0,2,4...)"
   ]
  },
  {
   "cell_type": "code",
   "execution_count": 67,
   "id": "ecdb9d76-c595-4c23-8211-6b44bc84745a",
   "metadata": {},
   "outputs": [
    {
     "data": {
      "text/plain": [
       "array([ 0,  8,  3,  1, 15])"
      ]
     },
     "execution_count": 67,
     "metadata": {},
     "output_type": "execute_result"
    }
   ],
   "source": [
    "enteros[::2]"
   ]
  },
  {
   "cell_type": "markdown",
   "id": "c2bca56b-8dd4-431c-a818-53f2767a5d5b",
   "metadata": {},
   "source": [
    "**Ejercicio 22**"
   ]
  },
  {
   "cell_type": "code",
   "execution_count": 68,
   "id": "402f7190-4565-4dd1-9b31-4bdbbe1f22c9",
   "metadata": {},
   "outputs": [
    {
     "data": {
      "text/plain": [
       "array([[ 4,  3,  8,  8, 12],\n",
       "       [ 8, 19,  8, 19,  5],\n",
       "       [ 2, 13,  0,  4, 10],\n",
       "       [ 6, 10,  9,  0,  4],\n",
       "       [ 2, 18, 15,  1,  8],\n",
       "       [17, 17, 16,  1, 15],\n",
       "       [ 1, 13,  4,  5,  5],\n",
       "       [16,  0,  4,  7,  3]])"
      ]
     },
     "execution_count": 68,
     "metadata": {},
     "output_type": "execute_result"
    }
   ],
   "source": [
    "enteros_2d = rg.integers(20, size=(8,5))\n",
    "enteros_2d"
   ]
  },
  {
   "cell_type": "markdown",
   "id": "4379c991-289a-4a71-9a20-d2aade51b157",
   "metadata": {},
   "source": [
    "Seleccionar el cuarto valor en el segundo array de \"enteros_2d\""
   ]
  },
  {
   "cell_type": "code",
   "execution_count": 69,
   "id": "699f76f1-58e8-40b9-91ac-5f17d587133b",
   "metadata": {},
   "outputs": [
    {
     "data": {
      "text/plain": [
       "np.int64(19)"
      ]
     },
     "execution_count": 69,
     "metadata": {},
     "output_type": "execute_result"
    }
   ],
   "source": [
    "enteros_2d[1,3]"
   ]
  },
  {
   "cell_type": "markdown",
   "id": "3f962283-7edb-4ece-91c7-d1d804838324",
   "metadata": {},
   "source": [
    "Seleccionar el segundo valor en los arrays con indice 3.4 y 5 de \"enteros_2d\""
   ]
  },
  {
   "cell_type": "code",
   "execution_count": 71,
   "id": "cc5f7d70-6b30-4578-99b3-b5276d46d3b5",
   "metadata": {},
   "outputs": [
    {
     "data": {
      "text/plain": [
       "array([10, 18, 17])"
      ]
     },
     "execution_count": 71,
     "metadata": {},
     "output_type": "execute_result"
    }
   ],
   "source": [
    "enteros_2d[3:6,1]"
   ]
  },
  {
   "cell_type": "markdown",
   "id": "3e97db49-d508-4316-8a64-ede0412b7265",
   "metadata": {},
   "source": [
    "Seleccionar los 2 primeros valores en los arrays con indice 4.5 y 6 de \"enteros_2d\""
   ]
  },
  {
   "cell_type": "code",
   "execution_count": 73,
   "id": "039cb6e2-ceea-4455-8379-95e31fc1ded2",
   "metadata": {},
   "outputs": [
    {
     "data": {
      "text/plain": [
       "array([[ 2, 18],\n",
       "       [17, 17],\n",
       "       [ 1, 13]])"
      ]
     },
     "execution_count": 73,
     "metadata": {},
     "output_type": "execute_result"
    }
   ],
   "source": [
    "enteros_2d[4:7,0:2]"
   ]
  },
  {
   "cell_type": "code",
   "execution_count": null,
   "id": "597286fd-b6f2-402a-9d6d-51d68c737acf",
   "metadata": {},
   "outputs": [],
   "source": []
  }
 ],
 "metadata": {
  "kernelspec": {
   "display_name": "Python 3 (ipykernel)",
   "language": "python",
   "name": "python3"
  },
  "language_info": {
   "codemirror_mode": {
    "name": "ipython",
    "version": 3
   },
   "file_extension": ".py",
   "mimetype": "text/x-python",
   "name": "python",
   "nbconvert_exporter": "python",
   "pygments_lexer": "ipython3",
   "version": "3.12.4"
  }
 },
 "nbformat": 4,
 "nbformat_minor": 5
}
